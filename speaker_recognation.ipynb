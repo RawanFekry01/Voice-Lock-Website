{
 "cells": [
  {
   "cell_type": "code",
   "execution_count": 1,
   "metadata": {},
   "outputs": [
    {
     "ename": "ModuleNotFoundError",
     "evalue": "No module named 'librosa'",
     "output_type": "error",
     "traceback": [
      "\u001b[1;31m---------------------------------------------------------------------------\u001b[0m",
      "\u001b[1;31mModuleNotFoundError\u001b[0m                       Traceback (most recent call last)",
      "Cell \u001b[1;32mIn[1], line 1\u001b[0m\n\u001b[1;32m----> 1\u001b[0m \u001b[38;5;28;01mfrom\u001b[39;00m \u001b[38;5;21;01mfunctions\u001b[39;00m \u001b[38;5;28;01mimport\u001b[39;00m \u001b[38;5;241m*\u001b[39m \n",
      "File \u001b[1;32mc:\\Users\\rawan\\Downloads\\Voice-Recognation-main\\Voice-Recognation-main\\functions.py:1\u001b[0m\n\u001b[1;32m----> 1\u001b[0m \u001b[38;5;28;01mimport\u001b[39;00m \u001b[38;5;21;01mlibrosa\u001b[39;00m\n\u001b[0;32m      2\u001b[0m \u001b[38;5;28;01mfrom\u001b[39;00m \u001b[38;5;21;01mlibrosa\u001b[39;00m \u001b[38;5;28;01mimport\u001b[39;00m power_to_db , util\n\u001b[0;32m      3\u001b[0m \u001b[38;5;28;01mimport\u001b[39;00m \u001b[38;5;21;01mlibrosa\u001b[39;00m\u001b[38;5;21;01m.\u001b[39;00m\u001b[38;5;21;01mdisplay\u001b[39;00m\n",
      "\u001b[1;31mModuleNotFoundError\u001b[0m: No module named 'librosa'"
     ]
    }
   ],
   "source": [
    "from functions import * "
   ]
  },
  {
   "cell_type": "code",
   "execution_count": null,
   "metadata": {},
   "outputs": [],
   "source": [
    "directorySara = './GMM Data/sara/'\n",
    "directoryRawan = './GMM Data/rawan/'\n",
    "directorySalah = './GMM Data/salah/'\n",
    "\n",
    "featuresSara = extractFromFile(directorySara)\n",
    "featuresRawan = extractFromFile(directoryRawan)\n",
    "featuresSalah = extractFromFile(directorySalah)"
   ]
  },
  {
   "cell_type": "code",
   "execution_count": null,
   "metadata": {},
   "outputs": [],
   "source": [
    "# from sklearn.mixture import GaussianMixture \n",
    "\n",
    "sara_gmm = generateModel('sara_gmm', featuresSara,'Sara')\n",
    "rawan_gmm = generateModel('rawan_gmm', featuresRawan,'Rawan')\n",
    "salah_gmm = generateModel('salah_gmm',featuresSalah,'Salah')\n"
   ]
  },
  {
   "cell_type": "code",
   "execution_count": null,
   "metadata": {},
   "outputs": [
    {
     "name": "stdout",
     "output_type": "stream",
     "text": [
      "sara {} -43.46108875437426\n",
      "salah {} -37.20524650005552\n",
      "fekry {} -42.685751101739854\n"
     ]
    }
   ],
   "source": [
    "testS = extract_features('GMM Data\\sara\\Sara_open_new (7).wav')\n",
    "testM = extract_features('GMM Data\\salah\\Mohamed_open_new (11).wav')\n",
    "testF = extract_features('GMM Data/rawan/Rawan_open_new (2).wav')\n",
    "\n",
    "# print(testF)\n",
    "x = testM\n",
    "\n",
    "scores_1 = np.array(sara_gmm.score(x))\n",
    "scores_2 = np.array(salah_gmm.score(x))\n",
    "scores_3 = np.array(rawan_gmm.score(x))\n",
    "\n",
    "print(\"sara {}\",scores_1)\n",
    "print(\"salah {}\",scores_2)\n",
    "print(\"fekry {}\",scores_3)\n"
   ]
  },
  {
   "cell_type": "code",
   "execution_count": null,
   "metadata": {},
   "outputs": [],
   "source": [
    "lstFolders = ['Sara', 'Rawan', 'Salah']\n",
    "models = [joblib.load(f + '.gmm') for f in lstFolders]"
   ]
  },
  {
   "cell_type": "code",
   "execution_count": null,
   "metadata": {},
   "outputs": [],
   "source": [
    "y = []\n",
    "y_true = []\n",
    "lstFolders = ['sara', 'rawan', 'salah']\n",
    "# GMM Data\\rawan\n",
    "for folder in lstFolders:\n",
    "    # try:\n",
    "        lstFiles = glob.glob('GMM Data/{}/*'.format(folder))\n",
    "        for f in lstFiles:\n",
    "            # sr,audio = read(f)\n",
    "            vstack = extract_features(f)\n",
    "            output = []\n",
    "            for model in models:\n",
    "                scores = np.array(model.score(vstack))\n",
    "                output.append(scores.sum())\n",
    "\n",
    "            winner = np.argmax(output)\n",
    "            y_true.append(winner)\n",
    "            y.append(lstFolders.index(folder))"
   ]
  },
  {
   "cell_type": "code",
   "execution_count": null,
   "metadata": {},
   "outputs": [
    {
     "data": {
      "text/plain": [
       "1.0"
      ]
     },
     "execution_count": 43,
     "metadata": {},
     "output_type": "execute_result"
    }
   ],
   "source": [
    "f1_score(y, y_true, average='micro')"
   ]
  },
  {
   "cell_type": "code",
   "execution_count": null,
   "metadata": {},
   "outputs": [],
   "source": []
  }
 ],
 "metadata": {
  "kernelspec": {
   "display_name": "Python 3.10.8 64-bit",
   "language": "python",
   "name": "python3"
  },
  "language_info": {
   "codemirror_mode": {
    "name": "ipython",
    "version": 3
   },
   "file_extension": ".py",
   "mimetype": "text/x-python",
   "name": "python",
   "nbconvert_exporter": "python",
   "pygments_lexer": "ipython3",
   "version": "3.8.10"
  },
  "orig_nbformat": 4,
  "vscode": {
   "interpreter": {
    "hash": "fbc768028c3e6ead51d9a200ddcb2ec858ae62844dcd1994729a8279be9b48f2"
   }
  }
 },
 "nbformat": 4,
 "nbformat_minor": 2
}
